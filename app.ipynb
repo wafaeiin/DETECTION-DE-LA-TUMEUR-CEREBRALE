{
 "cells": [
  {
   "cell_type": "code",
   "execution_count": 39,
   "id": "570806f0",
   "metadata": {},
   "outputs": [
    {
     "name": "stderr",
     "output_type": "stream",
     "text": [
      "WARNING:absl:Compiled the loaded model, but the compiled metrics have yet to be built. `model.compile_metrics` will be empty until you train or evaluate the model.\n"
     ]
    },
    {
     "name": "stdout",
     "output_type": "stream",
     "text": [
      "\u001b[1m1/1\u001b[0m \u001b[32m━━━━━━━━━━━━━━━━━━━━\u001b[0m\u001b[37m\u001b[0m \u001b[1m0s\u001b[0m 124ms/step\n",
      "Probabilité de tumeur: [0.8961098]\n",
      "L'image IRM n'indique pas la présence d'une tumeur.\n"
     ]
    }
   ],
   "source": [
    "import cv2\n",
    "import numpy as np\n",
    "from tensorflow.keras.models import load_model\n",
    "# Fonction pour prétraiter l'image IRM\n",
    "def preprocess_image(image_path, output_size):\n",
    "    # Lire l'image depuis le chemin spécifié\n",
    "    img = cv2.imread(image_path)\n",
    "    # Convertir l'image de l'espace de couleur BGR à RGB\n",
    "    img = cv2.cvtColor(img, cv2.COLOR_BGR2RGB)\n",
    "    # Redimensionner l'image à la taille de sortie spécifiée\n",
    "    img = cv2.resize(img, output_size)\n",
    "    # Normaliser les valeurs de pixels pour les ramener entre 0 et 1\n",
    "    img = img / 255.0\n",
    "    return img\n",
    "\n",
    "# Chemin de l'image IRM que vous souhaitez tester\n",
    "image_path = '12 no-Copy1.jpg'\n",
    "\n",
    "# Prétraiter l'image IRM\n",
    "preprocessed_image = preprocess_image(image_path, output_size=(128, 128))\n",
    "\n",
    "# Remodeler l'image pour correspondre à la forme d'entrée attendue par le modèle\n",
    "input_image = np.expand_dims(preprocessed_image, axis=0)\n",
    "\n",
    "# Charger le modèle entraîné\n",
    "model_path = 'C:\\\\Users\\\\dell\\\\Desktop\\\\ML\\\\model.h5'\n",
    "model = load_model(model_path)\n",
    "\n",
    "# Compiler le modèle avec les métriques appropriées\n",
    "model.compile(optimizer='adam', loss='binary_crossentropy', metrics=['accuracy'])\n",
    "\n",
    "# Faire des prédictions\n",
    "prediction = model.predict(input_image)\n",
    "\n",
    "# Obtenir la probabilité prédite\n",
    "predicted_probability = prediction[0]\n",
    "\n",
    "# Afficher la probabilité\n",
    "print(\"Probabilité de tumeur:\", predicted_probability)\n",
    "\n",
    "# Interpréter la prédiction\n",
    "if prediction[0] >= 0.5:\n",
    "    print(\"L'image IRM n'indique pas la présence d'une tumeur.\")\n",
    "else:\n",
    "    print(\"L'image IRM indique la présence d'une tumeur.\")\n"
   ]
  },
  {
   "cell_type": "code",
   "execution_count": 33,
   "id": "9086da80",
   "metadata": {},
   "outputs": [],
   "source": []
  }
 ],
 "metadata": {
  "kernelspec": {
   "display_name": "Python 3 (ipykernel)",
   "language": "python",
   "name": "python3"
  },
  "language_info": {
   "codemirror_mode": {
    "name": "ipython",
    "version": 3
   },
   "file_extension": ".py",
   "mimetype": "text/x-python",
   "name": "python",
   "nbconvert_exporter": "python",
   "pygments_lexer": "ipython3",
   "version": "3.11.5"
  }
 },
 "nbformat": 4,
 "nbformat_minor": 5
}
